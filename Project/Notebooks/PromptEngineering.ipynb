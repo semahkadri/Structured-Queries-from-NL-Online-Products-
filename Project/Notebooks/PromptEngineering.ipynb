{
 "cells": [
  {
   "cell_type": "code",
   "execution_count": 222,
   "metadata": {},
   "outputs": [],
   "source": [
    "import pandas as pd\n",
    "import numpy as np\n",
    "import json\n",
    "from bardapi import Bard\n",
    "import os\n",
    "\n",
    "from translate import Translator\n",
    "from tqdm.auto import tqdm\n",
    "import re\n",
    "from difflib import SequenceMatcher"
   ]
  },
  {
   "cell_type": "code",
   "execution_count": 9,
   "metadata": {},
   "outputs": [
    {
     "name": "stdout",
     "output_type": "stream",
     "text": [
      "[{'text': 'Je recherche une montre pour hommes de marque Tissot avec un prix inférieur à 1000DT.', 'entities': [{'entity': 'Category', 'value': 'montre'}, {'entity': 'Subcategory', 'value': 'montre pour hommes'}, {'entity': 'Marque', 'value': 'Tissot'}, {'entity': 'Prix', 'value': 'Inférieur à 1000DT'}]}, {'text': 'Je veux acheter des lunettes de soleil de marque Ray-Ban avec un prix entre 9 et 1420DT.', 'entities': [{'entity': 'Category', 'value': 'lunettes'}, {'entity': 'Subcategory', 'value': 'Lunettes de Soleil'}, {'entity': 'Marque', 'value': 'Ray-Ban'}, {'entity': 'Prix', 'value': 'Entre 9 et 1420DT'}]}, {'text': 'Je cherche un parfum pour femmes de la marque Chanel avec un volume de 50ml.', 'entities': [{'entity': 'Category', 'value': 'parfum'}, {'entity': 'Subcategory', 'value': 'parfum pour Femmes'}, {'entity': 'Marque', 'value': 'Chanel'}, {'entity': 'Volume', 'value': '50ml'}]}, {'text': 'Je souhaite trouver un sac de la marque JEEP avec un prix inférieur à 199DT.', 'entities': [{'entity': 'Category', 'value': 'sac'}, {'entity': 'Marque', 'value': 'JEEP'}, {'entity': 'Prix', 'value': 'Inférieur à 199DT'}]}, {'text': 'Je veux acheter des chaussures pour hommes de la marque Stephan avec une pointure de 43.', 'entities': [{'entity': 'Category', 'value': 'Chaussures'}, {'entity': 'Subcategory', 'value': 'Chaussures Hommes'}, {'entity': 'Marque', 'value': 'Stephan'}, {'entity': 'Pointure', 'value': '43'}]}, {'text': 'Je recherche des bijoux de la marque Yves Saint Laurent avec un prix entre 15 et 1588DT.', 'entities': [{'entity': 'Category', 'value': 'Accessoires'}, {'entity': 'Subcategory', 'value': 'Bijoux'}, {'entity': 'Marque', 'value': 'Yves Saint Laurent'}, {'entity': 'Prix', 'value': 'Entre 15 et 1588DT'}]}, {'text': 'Je veux acheter un soin anti-âge de la marque Clarins avec un volume de 50ml.', 'entities': [{'entity': 'Category', 'value': 'Soins'}, {'entity': 'Subcategory', 'value': 'Anti Âge'}, {'entity': 'Marque', 'value': 'Clarins'}, {'entity': 'Volume', 'value': '50ml'}]}, {'text': 'Je souhaite trouver un rouge à lèvres de la marque MAC avec un prix inférieur à 319DT.', 'entities': [{'entity': 'Category', 'value': 'Maquillage'}, {'entity': 'Subcategory', 'value': 'Lèvres'}, {'entity': 'Marque', 'value': 'MAC'}, {'entity': 'Prix', 'value': 'Inférieur à 319DT'}]}, {'text': 'Je recherche une montre pour hommes de marque Tissot avec un prix inférieur à 1000DT.', 'entities': [{'entity': 'Category', 'value': 'Montres'}, {'entity': 'Subcategory', 'value': 'Montres pour Hommes'}, {'entity': 'Marque', 'value': 'Tissot'}, {'entity': 'Prix', 'value': 'Inférieur à 1000DT'}]}, {'text': 'Je veux acheter des lunettes de soleil de marque Ray-Ban avec un prix entre 9 et 1420DT.', 'entities': [{'entity': 'Category', 'value': 'Lunettes'}, {'entity': 'Subcategory', 'value': 'Lunettes de Soleil'}, {'entity': 'Marque', 'value': 'Ray-Ban'}, {'entity': 'Prix', 'value': 'Entre 9 et 1420DT'}]}, {'text': 'Je cherche un parfum pour femmes de la marque Chanel avec un volume de 50ml.', 'entities': [{'entity': 'Category', 'value': 'Parfum'}, {'entity': 'Subcategory', 'value': 'Parfum pour Femmes'}, {'entity': 'Marque', 'value': 'Chanel'}, {'entity': 'Volume', 'value': '50ml'}]}, {'text': 'Je souhaite trouver un sac de la marque JEEP avec un prix inférieur à 199DT.', 'entities': [{'entity': 'Category', 'value': 'Sacs'}, {'entity': 'Marque', 'value': 'JEEP'}, {'entity': 'Prix', 'value': 'Inférieur à 199DT'}]}, {'text': 'Je veux acheter des chaussures pour hommes de la marque Stephan avec une pointure de 43.', 'entities': [{'entity': 'Category', 'value': 'Chaussures'}, {'entity': 'Subcategory', 'value': 'Chaussures Hommes'}, {'entity': 'Marque', 'value': 'Stephan'}, {'entity': 'Pointure', 'value': '43'}]}, {'text': 'Je recherche des bijoux de la marque Yves Saint Laurent avec un prix entre 15 et 1588DT.', 'entities': [{'entity': 'Category', 'value': 'Accessoires'}, {'entity': 'Subcategory', 'value': 'Bijoux'}, {'entity': 'Marque', 'value': 'Yves Saint Laurent'}, {'entity': 'Prix', 'value': 'Entre 15 et 1588DT'}]}, {'text': 'Je veux acheter un soin anti-âge de la marque Clarins avec un volume de 50ml.', 'entities': [{'entity': 'Category', 'value': 'Soins'}, {'entity': 'Subcategory', 'value': 'Anti Âge'}, {'entity': 'Marque', 'value': 'Clarins'}, {'entity': 'Volume', 'value': '50ml'}]}, {'text': 'Je souhaite trouver un rouge à lèvres de la marque MAC avec un prix inférieur à 319DT.', 'entities': [{'entity': 'Category', 'value': 'Maquillage'}, {'entity': 'Subcategory', 'value': 'Lèvres'}, {'entity': 'Marque', 'value': 'MAC'}, {'entity': 'Prix', 'value': 'Inférieur à 319DT'}]}]\n"
     ]
    }
   ],
   "source": [
    "# import the json data\n",
    "with open('Testdata.json') as f:\n",
    "    data = json.load(f)\n",
    "print(data)"
   ]
  },
  {
   "attachments": {},
   "cell_type": "markdown",
   "metadata": {},
   "source": [
    "## translating the data to english since bard doesn't support other languages"
   ]
  },
  {
   "cell_type": "code",
   "execution_count": 110,
   "metadata": {},
   "outputs": [
    {
     "name": "stderr",
     "output_type": "stream",
     "text": [
      "100%|██████████| 16/16 [01:57<00:00,  7.36s/it]\n"
     ]
    }
   ],
   "source": [
    "from translate import Translator\n",
    "\n",
    "def translate_dataset(dataset):\n",
    "    translator = Translator(from_lang=\"fr\", to_lang=\"en\")\n",
    "    translated_dataset = []\n",
    "    \n",
    "    for item in tqdm(dataset):\n",
    "        translated_item = {}\n",
    "        \n",
    "        # Translate the text value\n",
    "        translated_item['text'] = translator.translate(item['text'])\n",
    "        \n",
    "        # Translate the key names and values in entities\n",
    "        translated_item['entities'] = []\n",
    "        for entity in item['entities']:\n",
    "            translated_entity = {\n",
    "                'entity': translator.translate(entity['entity']),\n",
    "                'value': translator.translate(entity['value'])\n",
    "            }\n",
    "            translated_item['entities'].append(translated_entity)\n",
    "        \n",
    "        translated_dataset.append(translated_item)\n",
    "    \n",
    "    return translated_dataset\n",
    "\n",
    "# Example usage\n",
    "translated_dataset = translate_dataset(data)"
   ]
  },
  {
   "cell_type": "code",
   "execution_count": 143,
   "metadata": {},
   "outputs": [
    {
     "name": "stdout",
     "output_type": "stream",
     "text": [
      "16\n"
     ]
    }
   ],
   "source": [
    "def split_data(data):\n",
    "    spl = int(len(data) * 0.2)\n",
    "    print(len(data))\n",
    "    prompt = data[:spl]\n",
    "    eval = data[spl:]\n",
    "    return prompt, eval\n",
    "prompt, eval = split_data(translated_dataset)"
   ]
  },
  {
   "cell_type": "code",
   "execution_count": null,
   "metadata": {},
   "outputs": [],
   "source": [
    "with open('WebsiteCategoriesDataNoLink.json') as f:\n",
    "   WebCategs = json.load(f)\n"
   ]
  },
  {
   "cell_type": "code",
   "execution_count": null,
   "metadata": {},
   "outputs": [],
   "source": []
  },
  {
   "attachments": {},
   "cell_type": "markdown",
   "metadata": {},
   "source": [
    "## extracting the categories from the data"
   ]
  },
  {
   "cell_type": "code",
   "execution_count": 142,
   "metadata": {},
   "outputs": [
    {
     "data": {
      "text/plain": [
       "['name',\n",
       " 'subcategories',\n",
       " 'categories',\n",
       " 'Catégories',\n",
       " 'Prix',\n",
       " 'Pointure',\n",
       " 'Marque',\n",
       " 'Volume']"
      ]
     },
     "execution_count": 142,
     "metadata": {},
     "output_type": "execute_result"
    }
   ],
   "source": [
    "#extract website keys from the json data\n",
    "with open('WebsiteCategoriesDataNoLink.json') as f:\n",
    "   WebCategs = json.load(f)\n",
    "\n",
    "def get_unique_keys(dictionary):\n",
    "    unique_keys = set()\n",
    "    def extract_keys(obj):\n",
    "        if isinstance(obj, dict):\n",
    "            for key in obj:\n",
    "                unique_keys.add(key)\n",
    "                extract_keys(obj[key])\n",
    "        elif isinstance(obj, list):\n",
    "            for item in obj:\n",
    "                extract_keys(item)\n",
    "    extract_keys(dictionary)\n",
    "    return list(unique_keys)\n",
    "\n",
    "keys = get_unique_keys(WebCategs)\n",
    "keys"
   ]
  },
  {
   "cell_type": "code",
   "execution_count": 149,
   "metadata": {},
   "outputs": [
    {
     "name": "stdout",
     "output_type": "stream",
     "text": [
      "['subcategories', 'categories', 'Categories', 'Price', 'Shoe size', 'Brand ', 'Volume']\n"
     ]
    },
    {
     "data": {
      "text/plain": [
       "'categories'"
      ]
     },
     "execution_count": 149,
     "metadata": {},
     "output_type": "execute_result"
    }
   ],
   "source": [
    "translatedKeys = []\n",
    "translator = Translator(from_lang=\"fr\", to_lang=\"en\")\n",
    "for key in keys:\n",
    "    translatedKeys.append(translator.translate(key))\n",
    "\n",
    "translatedKeys = translatedKeys[1:]\n",
    "translatedKeys.pop(1)\n"
   ]
  },
  {
   "cell_type": "code",
   "execution_count": 152,
   "metadata": {},
   "outputs": [
    {
     "name": "stdout",
     "output_type": "stream",
     "text": [
      "['Category', 'subcategory', 'Brand', 'price', 'volume', 'shoe size']\n"
     ]
    }
   ],
   "source": [
    "translatedKeys = [\"Category\", \"subcategory\", \"Brand\", \"Price\", \"volume\",\"shoe size\"]"
   ]
  },
  {
   "attachments": {},
   "cell_type": "markdown",
   "metadata": {},
   "source": [
    "## preparing the prompt"
   ]
  },
  {
   "cell_type": "code",
   "execution_count": 244,
   "metadata": {},
   "outputs": [
    {
     "name": "stdout",
     "output_type": "stream",
     "text": [
      "[{'text': \"I am looking for a men's watch from Tissot with a price below 1000DT.\", 'entities': [{'entity': 'Category', 'value': 'shows'}, {'entity': 'SUBCATEGORY', 'value': \"men's watch\"}, {'entity': 'Brand ', 'value': 'Tissot'}, {'entity': 'Price', 'value': 'Less than 1000DT'}]}, {'text': 'I want to buy Ray-Ban brand sunglasses with a price between 9 and 1420DT.', 'entities': [{'entity': 'Category', 'value': 'eyewear'}, {'entity': 'SUBCATEGORY', 'value': 'Sunglasses'}, {'entity': 'Brand ', 'value': 'Rayban'}, {'entity': 'Price', 'value': 'Between 9 and 1420DT'}]}, {'text': 'I am looking for a perfume for women from Chanel with a volume of 50ml.', 'entities': [{'entity': 'Category', 'value': 'perfume'}, {'entity': 'SUBCATEGORY', 'value': 'perfume for women'}, {'entity': 'Brand ', 'value': 'Chanel'}, {'entity': 'Volume', 'value': '50 ml'}]}]\n"
     ]
    }
   ],
   "source": [
    "def prepare_prompt(prompt, list_of_keys):\n",
    "    prompt = prompt.copy()\n",
    "    print(prompt)\n",
    "    prp = f\"\"\"\"Extract the relevant information from the following user query, these are the possible categories: \\n {list_of_keys}\\n please just give me the answer for the last query only. give me the answer directly by following the pattern bellow, and make sure to follow the same writing pattern \\nhere are some examples of the query and the relevant information to extract: \\n\"\"\"\n",
    "    for i in prompt:\n",
    "        prp += f\"\"\"\\nQuery: {i['text'].strip()}\\n\"\"\"\n",
    "        for key in i['entities']:\n",
    "            prp += f\"\"\"**{key['entity'].strip()}** {key['value'].strip()}\\n\"\"\"\n",
    "    return prp\n",
    "def prep_fewshot(prompt, ele):\n",
    "    prp = prompt\n",
    "    prp += f\"\"\"\\nQuery: {ele['text'].strip()}\\n **Category** \"\"\"\n",
    "    return prp\n",
    "\n",
    "val = prepare_prompt(prompt, translatedKeys)"
   ]
  },
  {
   "cell_type": "code",
   "execution_count": 154,
   "metadata": {},
   "outputs": [
    {
     "name": "stdout",
     "output_type": "stream",
     "text": [
      "\"Extract the relevant information from the following user query, these are the possible categories: \n",
      " ['Category', 'subcategory', 'Brand', 'price', 'volume', 'shoe size']\n",
      " please just give me the answer for the last query only. give me the answer directly by following the pattern bellow, and make sure to follow the same writing pattern \n",
      "here are some examples of the query and the relevant information to extract: \n",
      "\n",
      "Query: I am looking for a men's watch from Tissot with a price below 1000DT.\n",
      "**Category** shows\n",
      "**SUBCATEGORY** men's watch\n",
      "**Brand** Tissot\n",
      "**Price** Less than 1000DT\n",
      "\n",
      "Query: I want to buy Ray-Ban brand sunglasses with a price between 9 and 1420DT.\n",
      "**Category** eyewear\n",
      "**SUBCATEGORY** Sunglasses\n",
      "**Brand** Rayban\n",
      "**Price** Between 9 and 1420DT\n",
      "\n",
      "Query: I am looking for a perfume for women from Chanel with a volume of 50ml.\n",
      "**Category** perfume\n",
      "**SUBCATEGORY** perfume for women\n",
      "**Brand** Chanel\n",
      "**Volume** 50 ml\n",
      "\n",
      "Query: I want to find a JEEP brand bag with a price below 199DT.\n",
      " **Category** \n"
     ]
    }
   ],
   "source": [
    "print(val)"
   ]
  },
  {
   "attachments": {},
   "cell_type": "markdown",
   "metadata": {},
   "source": [
    "# testing bard with the prompt"
   ]
  },
  {
   "cell_type": "code",
   "execution_count": 251,
   "metadata": {},
   "outputs": [
    {
     "name": "stdout",
     "output_type": "stream",
     "text": [
      "Sure, here is the relevant information extracted from the query \"I am looking for a perfume for women from Chanel with a volume of 50ml\":\n",
      "\n",
      "**Category:** Perfume\n",
      "**Subcategory:** Perfume for women\n",
      "**Brand:** Chanel\n",
      "**Volume:** 50 ml\n"
     ]
    }
   ],
   "source": [
    "os.environ['_BARD_API_KEY'] = \"API KEY\"\n",
    "response = Bard().get_answer(val)\n",
    "print(response['content'])"
   ]
  },
  {
   "cell_type": "code",
   "execution_count": 232,
   "metadata": {},
   "outputs": [
    {
     "data": {
      "text/plain": [
       "0.8571428571428571"
      ]
     },
     "execution_count": 232,
     "metadata": {},
     "output_type": "execute_result"
    }
   ],
   "source": [
    "SequenceMatcher(None, \"bags\", \"bag\").ratio()"
   ]
  },
  {
   "attachments": {},
   "cell_type": "markdown",
   "metadata": {},
   "source": [
    "## output evaluation "
   ]
  },
  {
   "cell_type": "code",
   "execution_count": 230,
   "metadata": {},
   "outputs": [],
   "source": [
    "\n",
    "import Levenshtein as lev\n",
    "\n",
    "def evaluation(response, ele):\n",
    "    correctElements = 0\n",
    "    totalElements = 0\n",
    "    response = response.splitlines()\n",
    "    response = response[1:-1]\n",
    "    response = \"\".join(response)\n",
    "    response_tokens = response.replace('**',':').replace('\\n',':').split(':')\n",
    "    for entity in ele['entities']:\n",
    "        if entity['value'].lower() in response.lower():\n",
    "            correctElements += 1\n",
    "        else:\n",
    "             for token in response_tokens:\n",
    "                if SequenceMatcher(None, entity['value'].lower(), token.lower()).ratio() > 0.5:\n",
    "                    correctElements += 1\n",
    "                    break\n",
    "        totalElements += 1\n",
    "    return correctElements, totalElements"
   ]
  },
  {
   "cell_type": "code",
   "execution_count": 245,
   "metadata": {},
   "outputs": [
    {
     "name": "stdout",
     "output_type": "stream",
     "text": [
      "\"Extract the relevant information from the following user query, these are the possible categories: \n",
      " ['Category', 'subcategory', 'Brand', 'price', 'volume', 'shoe size']\n",
      " please just give me the answer for the last query only. give me the answer directly by following the pattern bellow, and make sure to follow the same writing pattern \n",
      "here are some examples of the query and the relevant information to extract: \n",
      "\n",
      "Query: I am looking for a men's watch from Tissot with a price below 1000DT.\n",
      "**Category** shows\n",
      "**SUBCATEGORY** men's watch\n",
      "**Brand** Tissot\n",
      "**Price** Less than 1000DT\n",
      "\n",
      "Query: I want to buy Ray-Ban brand sunglasses with a price between 9 and 1420DT.\n",
      "**Category** eyewear\n",
      "**SUBCATEGORY** Sunglasses\n",
      "**Brand** Rayban\n",
      "**Price** Between 9 and 1420DT\n",
      "\n",
      "Query: I am looking for a perfume for women from Chanel with a volume of 50ml.\n",
      "**Category** perfume\n",
      "**SUBCATEGORY** perfume for women\n",
      "**Brand** Chanel\n",
      "**Volume** 50 ml\n",
      "\n"
     ]
    }
   ],
   "source": [
    "print(val)"
   ]
  },
  {
   "attachments": {},
   "cell_type": "markdown",
   "metadata": {},
   "source": [
    "## evaluating the output with accuracy"
   ]
  },
  {
   "cell_type": "code",
   "execution_count": null,
   "metadata": {},
   "outputs": [],
   "source": [
    "correctElements = 0\n",
    "totalElements = 0\n",
    "for ele in tqdm(eval):\n",
    "    response = Bard().get_answer(prep_fewshot(val, ele))\n",
    "    correct, total = evaluation(response['content'], ele)\n",
    "    correctElements += correct\n",
    "    totalElements += total"
   ]
  },
  {
   "cell_type": "code",
   "execution_count": 253,
   "metadata": {},
   "outputs": [
    {
     "name": "stdout",
     "output_type": "stream",
     "text": [
      "Accuracy: 0.82\n"
     ]
    }
   ],
   "source": [
    "print(f\"Accuracy: {correctElements/totalElements}\")"
   ]
  },
  {
   "cell_type": "code",
   "execution_count": null,
   "metadata": {},
   "outputs": [],
   "source": []
  }
 ],
 "metadata": {
  "kernelspec": {
   "display_name": ".venv",
   "language": "python",
   "name": "python3"
  },
  "language_info": {
   "codemirror_mode": {
    "name": "ipython",
    "version": 3
   },
   "file_extension": ".py",
   "mimetype": "text/x-python",
   "name": "python",
   "nbconvert_exporter": "python",
   "pygments_lexer": "ipython3",
   "version": "3.9.5"
  },
  "orig_nbformat": 4
 },
 "nbformat": 4,
 "nbformat_minor": 2
}
