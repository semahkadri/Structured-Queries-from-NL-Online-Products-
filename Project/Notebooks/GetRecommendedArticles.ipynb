{
 "cells": [
  {
   "cell_type": "code",
   "execution_count": 8,
   "metadata": {},
   "outputs": [],
   "source": [
    "import pandas as pd\n",
    "import numpy as np\n",
    "import json\n",
    "from bardapi import Bard\n",
    "import os\n",
    "\n",
    "from translate import Translator\n",
    "from tqdm.auto import tqdm\n",
    "import re\n",
    "from difflib import SequenceMatcher\n",
    "import spacy\n",
    "\n",
    "from bs4 import BeautifulSoup\n",
    "import requests\n",
    "import urllib.request\n",
    "import time\n",
    "\n",
    "from tqdm.auto import tqdm\n",
    "\n",
    "import spacy\n",
    "from sentence_transformers import SentenceTransformer\n",
    "from sentence_transformers import util"
   ]
  },
  {
   "cell_type": "code",
   "execution_count": 9,
   "metadata": {},
   "outputs": [
    {
     "ename": "ModuleNotFoundError",
     "evalue": "No module named 'processing'",
     "output_type": "error",
     "traceback": [
      "\u001b[1;31m---------------------------------------------------------------------------\u001b[0m",
      "\u001b[1;31mModuleNotFoundError\u001b[0m                       Traceback (most recent call last)",
      "Cell \u001b[1;32mIn[9], line 1\u001b[0m\n\u001b[1;32m----> 1\u001b[0m \u001b[39mfrom\u001b[39;00m \u001b[39mprocessing\u001b[39;00m \u001b[39mimport\u001b[39;00m translate_dataset, split_data, prepare_prompt, prep_fewshot\n\u001b[0;32m      2\u001b[0m \u001b[39mfrom\u001b[39;00m \u001b[39mdeep_translator\u001b[39;00m \u001b[39mimport\u001b[39;00m GoogleTranslator\n",
      "\u001b[1;31mModuleNotFoundError\u001b[0m: No module named 'processing'"
     ]
    }
   ],
   "source": [
    "from processing import translate_dataset, split_data, prepare_prompt, prep_fewshot\n",
    "from deep_translator import GoogleTranslator"
   ]
  },
  {
   "attachments": {},
   "cell_type": "markdown",
   "metadata": {},
   "source": [
    "## translating the test data to use some of it in the prompt"
   ]
  },
  {
   "cell_type": "code",
   "execution_count": 11,
   "metadata": {},
   "outputs": [],
   "source": [
    "os.environ['_BARD_API_KEY'] = \"API KEY\""
   ]
  },
  {
   "cell_type": "code",
   "execution_count": 12,
   "metadata": {},
   "outputs": [
    {
     "ename": "FileNotFoundError",
     "evalue": "[Errno 2] No such file or directory: 'Testdata.json'",
     "output_type": "error",
     "traceback": [
      "\u001b[1;31m---------------------------------------------------------------------------\u001b[0m",
      "\u001b[1;31mFileNotFoundError\u001b[0m                         Traceback (most recent call last)",
      "Cell \u001b[1;32mIn[12], line 1\u001b[0m\n\u001b[1;32m----> 1\u001b[0m \u001b[39mwith\u001b[39;00m \u001b[39mopen\u001b[39;49m(\u001b[39m'\u001b[39;49m\u001b[39mTestdata.json\u001b[39;49m\u001b[39m'\u001b[39;49m) \u001b[39mas\u001b[39;00m f:\n\u001b[0;32m      2\u001b[0m     data \u001b[39m=\u001b[39m json\u001b[39m.\u001b[39mload(f)\n\u001b[0;32m      4\u001b[0m \u001b[39m# Translate the dataset\u001b[39;00m\n",
      "File \u001b[1;32m~\\AppData\\Roaming\\Python\\Python311\\site-packages\\IPython\\core\\interactiveshell.py:284\u001b[0m, in \u001b[0;36m_modified_open\u001b[1;34m(file, *args, **kwargs)\u001b[0m\n\u001b[0;32m    277\u001b[0m \u001b[39mif\u001b[39;00m file \u001b[39min\u001b[39;00m {\u001b[39m0\u001b[39m, \u001b[39m1\u001b[39m, \u001b[39m2\u001b[39m}:\n\u001b[0;32m    278\u001b[0m     \u001b[39mraise\u001b[39;00m \u001b[39mValueError\u001b[39;00m(\n\u001b[0;32m    279\u001b[0m         \u001b[39mf\u001b[39m\u001b[39m\"\u001b[39m\u001b[39mIPython won\u001b[39m\u001b[39m'\u001b[39m\u001b[39mt let you open fd=\u001b[39m\u001b[39m{\u001b[39;00mfile\u001b[39m}\u001b[39;00m\u001b[39m by default \u001b[39m\u001b[39m\"\u001b[39m\n\u001b[0;32m    280\u001b[0m         \u001b[39m\"\u001b[39m\u001b[39mas it is likely to crash IPython. If you know what you are doing, \u001b[39m\u001b[39m\"\u001b[39m\n\u001b[0;32m    281\u001b[0m         \u001b[39m\"\u001b[39m\u001b[39myou can use builtins\u001b[39m\u001b[39m'\u001b[39m\u001b[39m open.\u001b[39m\u001b[39m\"\u001b[39m\n\u001b[0;32m    282\u001b[0m     )\n\u001b[1;32m--> 284\u001b[0m \u001b[39mreturn\u001b[39;00m io_open(file, \u001b[39m*\u001b[39;49margs, \u001b[39m*\u001b[39;49m\u001b[39m*\u001b[39;49mkwargs)\n",
      "\u001b[1;31mFileNotFoundError\u001b[0m: [Errno 2] No such file or directory: 'Testdata.json'"
     ]
    }
   ],
   "source": [
    "with open('Testdata.json') as f:\n",
    "    data = json.load(f)\n",
    "\n",
    "# Translate the dataset\n",
    "translated_data = translate_dataset(data)"
   ]
  },
  {
   "cell_type": "code",
   "execution_count": 254,
   "metadata": {},
   "outputs": [
    {
     "name": "stdout",
     "output_type": "stream",
     "text": [
      "[{'text': \"I am looking for a Tissot brand men's watch with a price below 1000DT.\", 'entities': [{'entity': 'Price', 'value': 'Less than 1000DT'}]}, {'text': 'I want to buy Ray-Ban brand sunglasses with a price between 9 and 1420DT.', 'entities': [{'entity': 'Price', 'value': 'Between 9 and 1420DT'}]}, {'text': \"I am looking for a women's perfume from the Chanel brand with a volume of 50ml.\", 'entities': [{'entity': 'Volume', 'value': '50ml'}]}, {'text': 'I want to find a JEEP brand bag with a price lower than 199DT.', 'entities': [{'entity': 'Price', 'value': 'Less than 199TND'}]}, {'text': \"I want to buy Stephan brand men's shoes with a shoe size of 43.\", 'entities': [{'entity': 'Shoe size', 'value': '43'}]}, {'text': 'I am looking for jewelry from the Yves Saint Laurent brand with a price between 15 and 1588DT.', 'entities': [{'entity': 'Price', 'value': 'Between 15 and 1588DT'}]}, {'text': 'I want to buy a Clarins brand anti-aging care with a volume of 50ml.', 'entities': [{'entity': 'Volume', 'value': '50ml'}]}, {'text': 'I want to find a MAC brand lipstick with a price below 319DT.', 'entities': [{'entity': 'Price', 'value': 'Less than 319DT'}]}, {'text': \"I am looking for a Tissot brand men's watch with a price below 1000DT.\", 'entities': [{'entity': 'Price', 'value': 'Less than 1000DT'}]}, {'text': 'I want to buy Ray-Ban brand sunglasses with a price between 9 and 1420DT.', 'entities': [{'entity': 'Price', 'value': 'Between 9 and 1420DT'}]}, {'text': \"I am looking for a women's perfume from the Chanel brand with a volume of 50ml.\", 'entities': [{'entity': 'Volume', 'value': '50ml'}]}, {'text': 'I want to find a JEEP brand bag with a price lower than 199DT.', 'entities': [{'entity': 'Price', 'value': 'Less than 199TND'}]}, {'text': \"I want to buy Stephan brand men's shoes with a shoe size of 43.\", 'entities': [{'entity': 'Shoe size', 'value': '43'}]}, {'text': 'I am looking for jewelry from the Yves Saint Laurent brand with a price between 15 and 1588DT.', 'entities': [{'entity': 'Price', 'value': 'Between 15 and 1588DT'}]}, {'text': 'I want to buy a Clarins brand anti-aging care with a volume of 50ml.', 'entities': [{'entity': 'Volume', 'value': '50ml'}]}, {'text': 'I want to find a MAC brand lipstick with a price below 319DT.', 'entities': [{'entity': 'Price', 'value': 'Less than 319DT'}]}]\n"
     ]
    }
   ],
   "source": [
    "print(translated_data)"
   ]
  },
  {
   "cell_type": "code",
   "execution_count": 265,
   "metadata": {},
   "outputs": [],
   "source": [
    "translatedKeys = [\"Category\", \"subcategory\", \"Brand\", \"Price\", \"volume\",\"shoe size\"]"
   ]
  },
  {
   "cell_type": "code",
   "execution_count": 266,
   "metadata": {},
   "outputs": [],
   "source": [
    "def split_data(data):\n",
    "    np.random.shuffle(data)\n",
    "    spl = int(len(data) * 0.2)\n",
    "    print(spl)\n",
    "    prompt = data[:spl]\n",
    "    eval = data[spl:]\n",
    "    return prompt, eval"
   ]
  },
  {
   "cell_type": "code",
   "execution_count": 267,
   "metadata": {},
   "outputs": [
    {
     "name": "stdout",
     "output_type": "stream",
     "text": [
      "3\n"
     ]
    }
   ],
   "source": [
    "prompt, eval = split_data(translated_data)"
   ]
  },
  {
   "attachments": {},
   "cell_type": "markdown",
   "metadata": {},
   "source": [
    "## few shot prompt prep"
   ]
  },
  {
   "cell_type": "code",
   "execution_count": 268,
   "metadata": {},
   "outputs": [
    {
     "name": "stdout",
     "output_type": "stream",
     "text": [
      "[{'text': 'I want to buy a Clarins brand anti-aging care with a volume of 50ml.', 'entities': [{'entity': 'Category', 'value': 'Care'}, {'entity': 'Subcategory', 'value': 'Anti-aging'}, {'entity': 'Brand', 'value': 'Clarins'}, {'entity': 'Volume', 'value': '50ml'}]}, {'text': 'I want to buy a Clarins brand anti-aging care with a volume of 50ml.', 'entities': [{'entity': 'Category', 'value': 'Care'}, {'entity': 'Subcategory', 'value': 'Anti-aging'}, {'entity': 'Brand', 'value': 'Clarins'}, {'entity': 'Volume', 'value': '50ml'}]}, {'text': 'I want to find a JEEP brand bag with a price lower than 199DT.', 'entities': [{'entity': 'Category', 'value': 'bag'}, {'entity': 'Brand', 'value': 'JEEP'}, {'entity': 'Price', 'value': 'Less than 199TND'}]}]\n"
     ]
    }
   ],
   "source": [
    "#prepare prompt\n",
    "prompt = prepare_prompt(prompt, translatedKeys)"
   ]
  },
  {
   "cell_type": "code",
   "execution_count": 269,
   "metadata": {},
   "outputs": [
    {
     "name": "stdout",
     "output_type": "stream",
     "text": [
      "prompt:  \"Extract the relevant information from the following user query, these are the possible categories: \n",
      " ['Category', 'subcategory', 'Brand', 'Price', 'volume', 'shoe size']\n",
      " please just give me the answer for the last query only. give me the answer directly by following the pattern bellow, and make sure to follow the same writing pattern \n",
      "here are some examples of the query and the relevant information to extract: \n",
      "\n",
      "Query: I want to buy a Clarins brand anti-aging care with a volume of 50ml.\n",
      "**Category** Care\n",
      "**Subcategory** Anti-aging\n",
      "**Brand** Clarins\n",
      "**Volume** 50ml\n",
      "\n",
      "Query: I want to buy a Clarins brand anti-aging care with a volume of 50ml.\n",
      "**Category** Care\n",
      "**Subcategory** Anti-aging\n",
      "**Brand** Clarins\n",
      "**Volume** 50ml\n",
      "\n",
      "Query: I want to find a JEEP brand bag with a price lower than 199DT.\n",
      "**Category** bag\n",
      "**Brand** JEEP\n",
      "**Price** Less than 199TND\n",
      "\n"
     ]
    }
   ],
   "source": [
    "print(\"prompt: \", prompt)"
   ]
  },
  {
   "cell_type": "code",
   "execution_count": 165,
   "metadata": {},
   "outputs": [
    {
     "name": "stdout",
     "output_type": "stream",
     "text": [
      "\"Extract the relevant information from the following user query, these are the possible categories: \n",
      " ['Category', 'subcategory', 'Brand', 'Price', 'volume', 'shoe size']\n",
      " please just give me the answer for the last query only. give me the answer directly by following the pattern bellow, and make sure to follow the same writing pattern \n",
      "here are some examples of the query and the relevant information to extract: \n",
      "\n",
      "Query: I am looking for a men's watch from Tissot with a price below 1000DT.\n",
      "**Category** shows\n",
      "**SUBCATEGORY** men's watch\n",
      "**Brand** Tissot\n",
      "**Price** Less than 1000DT\n",
      "\n",
      "Query: I want to buy Ray-Ban brand sunglasses with a price between 9 and 1420DT.\n",
      "**Category** eyewear\n",
      "**SUBCATEGORY** Sunglasses\n",
      "**Brand** Rayban\n",
      "**Price** Between 9 and 1420DT\n",
      "\n",
      "Query: I am looking for a perfume for women from Chanel with a volume of 50ml.\n",
      "**Category** perfume\n",
      "**SUBCATEGORY** perfume for women\n",
      "**Brand** Chanel\n",
      "**Volume** 50 ml\n",
      "\n",
      "Query: I am looking for a men's watch from Tissot with a price below 1000DT.\n",
      " **Category** \n"
     ]
    }
   ],
   "source": [
    "prep = prep_fewshot(prompt, eval[5])\n",
    "print(prep)"
   ]
  },
  {
   "cell_type": "code",
   "execution_count": 166,
   "metadata": {},
   "outputs": [],
   "source": [
    "response = Bard().get_answer(prep)"
   ]
  },
  {
   "cell_type": "code",
   "execution_count": 167,
   "metadata": {},
   "outputs": [
    {
     "name": "stdout",
     "output_type": "stream",
     "text": [
      "Sure, here is the relevant information extracted from the last query:\n",
      "\n",
      "**Category:** watches\n",
      "**Subcategory:** men's watch\n",
      "**Brand:** Tissot\n",
      "**Price:** below 1000DT\n"
     ]
    }
   ],
   "source": [
    "print(response['content'])"
   ]
  },
  {
   "attachments": {},
   "cell_type": "markdown",
   "metadata": {},
   "source": [
    "## extracting the necessary entities from the response of bard"
   ]
  },
  {
   "cell_type": "code",
   "execution_count": 168,
   "metadata": {},
   "outputs": [],
   "source": [
    "def extract_entities(response):\n",
    "    entities = []\n",
    "    responseSplited = response['content'].split(\"\\n\")\n",
    "    responseFiltered = []\n",
    "    for index,ele in enumerate(responseSplited):\n",
    "        if \"**\" in ele:\n",
    "            responseFiltered.append(ele)\n",
    "    responseFiltered = list(filter(None, responseFiltered))\n",
    "    for index,ele in enumerate(responseFiltered):\n",
    "        elements = ele.split(\"**\")\n",
    "        entities.append({\n",
    "            'entity': elements[1].strip(),\n",
    "            'value': elements[-1].strip()\n",
    "        })\n",
    "    return entities\n",
    "\n",
    "extracted_entities = extract_entities(response)"
   ]
  },
  {
   "cell_type": "code",
   "execution_count": 169,
   "metadata": {},
   "outputs": [
    {
     "data": {
      "text/plain": [
       "[{'entity': 'Category:', 'value': 'watches'},\n",
       " {'entity': 'Subcategory:', 'value': \"men's watch\"},\n",
       " {'entity': 'Brand:', 'value': 'Tissot'},\n",
       " {'entity': 'Price:', 'value': 'below 1000DT'}]"
      ]
     },
     "execution_count": 169,
     "metadata": {},
     "output_type": "execute_result"
    }
   ],
   "source": [
    "extracted_entities"
   ]
  },
  {
   "attachments": {},
   "cell_type": "markdown",
   "metadata": {},
   "source": [
    "## extracting the value relation from the user query, \"whether the user wants the value of the product to be higher lower or between values\""
   ]
  },
  {
   "cell_type": "code",
   "execution_count": 170,
   "metadata": {},
   "outputs": [],
   "source": [
    "def extract_value_relation(value_string):\n",
    "    pattern = r\"\\d+\\.?\\d*\"  # Regular expression pattern to match numbers\n",
    "    numbers = re.findall(pattern, value_string)\n",
    "    numbers = [int(num) for num in numbers]  \n",
    "    print(numbers)    \n",
    "    if len(numbers) == 2:\n",
    "        return \"between\", numbers\n",
    "    pattern = r\"\\b(greater|more|less|below|bellow|between)\\b\"\n",
    "\n",
    "    matches = re.search(pattern, value_string, re.IGNORECASE)\n",
    "\n",
    "    if matches:\n",
    "        relation = matches.group(1)\n",
    "        \n",
    "        if relation.strip().lower() in [\"greater\", \"more\"]:\n",
    "            # Logic for greater or more\n",
    "            value1 = re.findall(r\"[\\d.,]+\", value_string)\n",
    "            return f\"greater\", value1[0] if value1 else None\n",
    "        elif relation.strip().lower() in [\"less\", \"below\", \"bellow\"]:\n",
    "            # Logic for less, below, or bellow\n",
    "            value1 = re.findall(r\"[\\d.,]+\", value_string)\n",
    "            return f\"less\", value1[0] if value1 else None\n",
    "        elif relation.strip().lower() == \"between\":\n",
    "            # Logic for between\n",
    "            values = re.findall(r\"[\\d.,]+\", value_string)\n",
    "            return f\"between\", values[:2] if len(values) >= 2 else None\n",
    "        else:\n",
    "            return \"Invalid value relation.\", 0\n",
    "        \n",
    "    else:\n",
    "        return \"No value relation found.\", 0"
   ]
  },
  {
   "cell_type": "code",
   "execution_count": 171,
   "metadata": {},
   "outputs": [],
   "source": [
    "def extract_price_max_min(entities):\n",
    "    for i in entities:\n",
    "        if \"price\" in i['entity'].lower():\n",
    "            return extract_value_relation(i['value'])"
   ]
  },
  {
   "cell_type": "code",
   "execution_count": 172,
   "metadata": {},
   "outputs": [
    {
     "name": "stdout",
     "output_type": "stream",
     "text": [
      "[1000]\n"
     ]
    }
   ],
   "source": [
    "symb, vall = extract_price_max_min(extracted_entities)"
   ]
  },
  {
   "cell_type": "code",
   "execution_count": 173,
   "metadata": {},
   "outputs": [
    {
     "name": "stdout",
     "output_type": "stream",
     "text": [
      "1000\n"
     ]
    }
   ],
   "source": [
    "print(vall)"
   ]
  },
  {
   "attachments": {},
   "cell_type": "markdown",
   "metadata": {},
   "source": [
    "## preparing the query to search for the products"
   ]
  },
  {
   "cell_type": "code",
   "execution_count": 174,
   "metadata": {},
   "outputs": [],
   "source": [
    "def prepare_web_search_query(entities):\n",
    "    query = \"\"\n",
    "    translator = Translator(from_lang=\"en\", to_lang=\"fr\")\n",
    "    for i in entities:\n",
    "        if \"price\" not in i['entity'].lower():\n",
    "            query += f\"{translator.translate(i['value'])} \"\n",
    "    return query"
   ]
  },
  {
   "cell_type": "code",
   "execution_count": 175,
   "metadata": {},
   "outputs": [
    {
     "data": {
      "text/plain": [
       "'montres Montre pour homme Tissot '"
      ]
     },
     "execution_count": 175,
     "metadata": {},
     "output_type": "execute_result"
    }
   ],
   "source": [
    "prepare_web_search_query(extracted_entities)"
   ]
  },
  {
   "cell_type": "code",
   "execution_count": 176,
   "metadata": {},
   "outputs": [],
   "source": [
    "def get_recommended_articles(entities):\n",
    "    val = len(entities)\n",
    "    while val>0:\n",
    "        query = prepare_web_search_query(entities[:val])\n",
    "        query = query.replace(\" \", \"+\")\n",
    "        url = f\"https://www.lamode.tn/recherche?controller=search&s={query}\"\n",
    "        response = requests.get(url)\n",
    "        soup = BeautifulSoup(response.text, \"html.parser\")\n",
    "        try:\n",
    "            articles = soup.find(\"div\", class_=\"products\").find_all(\"article\")\n",
    "            links = []\n",
    "            for article in articles:\n",
    "                links.append(article.find(\"a\")['href'])\n",
    "            return links\n",
    "        except:\n",
    "            val = val-1\n",
    "            continue\n",
    "    return []"
   ]
  },
  {
   "cell_type": "code",
   "execution_count": 177,
   "metadata": {},
   "outputs": [
    {
     "name": "stdout",
     "output_type": "stream",
     "text": [
      "['https://www.lamode.tn/montre-pour-homme-et-femme-aux-meilleurs-prix-en-tunisie/560-montre-homme-tissot-t035-617-16-051-00.html', 'https://www.lamode.tn/montre-pour-homme-et-femme-aux-meilleurs-prix-en-tunisie/2398-montre-homme-tissot-t063-617-36-037-00.html', 'https://www.lamode.tn/montre-pour-homme-et-femme-aux-meilleurs-prix-en-tunisie/5145-montre-homme-tissot-t120-417-11-041-00.html', 'https://www.lamode.tn/montre-pour-homme-et-femme-aux-meilleurs-prix-en-tunisie/1577-montre-homme-tissot-t035-617-11-031-00.html', 'https://www.lamode.tn/montre-pour-homme-et-femme-aux-meilleurs-prix-en-tunisie/1722-montre-homme-tissot-t100-417-16-051-00.html', 'https://www.lamode.tn/montre-pour-homme-et-femme-aux-meilleurs-prix-en-tunisie/5147-montre-homme-tissot-t120-417-11-051-00.html', 'https://www.lamode.tn/montre-pour-homme-et-femme-aux-meilleurs-prix-en-tunisie/2702-montre-homme-tissot-t055-417-16-057-00.html', 'https://www.lamode.tn/montre-pour-homme-et-femme-aux-meilleurs-prix-en-tunisie/3812-montre-homme-tissot-t035-617-16-031-00.html', 'https://www.lamode.tn/montre-pour-homme-et-femme-aux-meilleurs-prix-en-tunisie/1724-montre-homme-tissot-t100-417-11-051-00.html', 'https://www.lamode.tn/montre-pour-homme-et-femme-aux-meilleurs-prix-en-tunisie/1725-montre-homme-tissot-t100-417-11-051-01.html', 'https://www.lamode.tn/montre-pour-homme-et-femme-aux-meilleurs-prix-en-tunisie/1784-montre-homme-tissot-t055-417-11-047-00.html', 'https://www.lamode.tn/montre-pour-homme-et-femme-aux-meilleurs-prix-en-tunisie/2396-montre-homme-tissot-t100-417-36-051-00.html', 'https://www.lamode.tn/montre-pour-homme-et-femme-aux-meilleurs-prix-en-tunisie/2457-montre-homme-tissot-t055-417-11-057-00.html', 'https://www.lamode.tn/montre-pour-homme-et-femme-aux-meilleurs-prix-en-tunisie/3021-montre-homme-tissot-t055-417-11-037-00.html', 'https://www.lamode.tn/montre-pour-homme-et-femme-aux-meilleurs-prix-en-tunisie/3330-montre-homme-tissot-t055-417-16-037-00.html', 'https://www.lamode.tn/montre-pour-homme-et-femme-aux-meilleurs-prix-en-tunisie/33-montre-homme-tissot-t035-617-11-051-00.html', 'https://www.lamode.tn/montre-pour-homme-et-femme-aux-meilleurs-prix-en-tunisie/2968-montre-homme-tissot-t106-417-36-051-00.html', 'https://www.lamode.tn/montre-pour-homme-et-femme-aux-meilleurs-prix-en-tunisie/5143-montre-homme-tissot-t122-417-16-011-00.html', 'https://www.lamode.tn/montre-pour-homme-et-femme-aux-meilleurs-prix-en-tunisie/5144-montre-homme-tissot-t122-417-16-051-00.html', 'https://www.lamode.tn/montre-pour-homme-et-femme-aux-meilleurs-prix-en-tunisie/14122-bracelet-de-montres-tissot-t120-417bs.html']\n"
     ]
    }
   ],
   "source": [
    "li = get_recommended_articles(extracted_entities)\n",
    "print(li)"
   ]
  },
  {
   "cell_type": "code",
   "execution_count": 178,
   "metadata": {},
   "outputs": [
    {
     "data": {
      "text/plain": [
       "20"
      ]
     },
     "execution_count": 178,
     "metadata": {},
     "output_type": "execute_result"
    }
   ],
   "source": [
    "len(li)"
   ]
  },
  {
   "attachments": {},
   "cell_type": "markdown",
   "metadata": {},
   "source": [
    "## extracting the product descriptions from the products if it is present"
   ]
  },
  {
   "cell_type": "code",
   "execution_count": 179,
   "metadata": {},
   "outputs": [],
   "source": [
    "def get_articles_descriptions(links):\n",
    "    descriptions = []\n",
    "    for link in tqdm(links):\n",
    "        response = requests.get(link)\n",
    "        soup = BeautifulSoup(response.text, \"html.parser\")\n",
    "        try:\n",
    "            descriptions.append((link,soup.find(\"div\", class_=\"product-description\").text))\n",
    "        except:\n",
    "            try:\n",
    "                descriptions.append((link,soup.find(\"div\", class_=\"tvproduct-page-decs\").text))\n",
    "            except:\n",
    "                descriptions.append((link,\"None\"))\n",
    "    return descriptions"
   ]
  },
  {
   "cell_type": "code",
   "execution_count": 180,
   "metadata": {},
   "outputs": [
    {
     "name": "stderr",
     "output_type": "stream",
     "text": [
      "100%|██████████| 20/20 [00:25<00:00,  1.27s/it]\n"
     ]
    }
   ],
   "source": [
    "descs = get_articles_descriptions(li)"
   ]
  },
  {
   "cell_type": "code",
   "execution_count": 181,
   "metadata": {},
   "outputs": [
    {
     "name": "stdout",
     "output_type": "stream",
     "text": [
      "less\n",
      "1000\n"
     ]
    }
   ],
   "source": [
    "print(symb)\n",
    "print(vall)"
   ]
  },
  {
   "attachments": {},
   "cell_type": "markdown",
   "metadata": {},
   "source": [
    "## filter the products based on the price"
   ]
  },
  {
   "cell_type": "code",
   "execution_count": 203,
   "metadata": {},
   "outputs": [],
   "source": [
    "def filter_based_on_price(links, symb, vall):\n",
    "    filtered = []    \n",
    "    for link in links:\n",
    "        response = requests.get(link)\n",
    "        soup = BeautifulSoup(response.text, \"html.parser\")\n",
    "        prr = soup.find(\"span\", class_=\"price\")['content']\n",
    "        if symb.strip().lower() == \"between\":\n",
    "            if float(vall[0]) <= float(prr) <= float(vall[1]):\n",
    "                filtered.append(link)\n",
    "        elif symb.strip().lower() == \"greater\":\n",
    "            if float(prr) >= float(vall):\n",
    "                filtered.append(link)\n",
    "        elif symb.strip().lower() == \"less\":\n",
    "            if float(prr) <= float(vall):\n",
    "                filtered.append(link)\n",
    "    return filtered"
   ]
  },
  {
   "cell_type": "code",
   "execution_count": 187,
   "metadata": {},
   "outputs": [
    {
     "name": "stdout",
     "output_type": "stream",
     "text": [
      "1000\n"
     ]
    }
   ],
   "source": [
    "print(vall)"
   ]
  },
  {
   "cell_type": "code",
   "execution_count": 188,
   "metadata": {},
   "outputs": [
    {
     "data": {
      "text/plain": [
       "str"
      ]
     },
     "execution_count": 188,
     "metadata": {},
     "output_type": "execute_result"
    }
   ],
   "source": [
    "type(vall)"
   ]
  },
  {
   "cell_type": "code",
   "execution_count": 204,
   "metadata": {},
   "outputs": [
    {
     "data": {
      "text/plain": [
       "['https://www.lamode.tn/montre-pour-homme-et-femme-aux-meilleurs-prix-en-tunisie/2702-montre-homme-tissot-t055-417-16-057-00.html',\n",
       " 'https://www.lamode.tn/montre-pour-homme-et-femme-aux-meilleurs-prix-en-tunisie/3021-montre-homme-tissot-t055-417-11-037-00.html',\n",
       " 'https://www.lamode.tn/montre-pour-homme-et-femme-aux-meilleurs-prix-en-tunisie/3330-montre-homme-tissot-t055-417-16-037-00.html',\n",
       " 'https://www.lamode.tn/montre-pour-homme-et-femme-aux-meilleurs-prix-en-tunisie/5143-montre-homme-tissot-t122-417-16-011-00.html',\n",
       " 'https://www.lamode.tn/montre-pour-homme-et-femme-aux-meilleurs-prix-en-tunisie/5144-montre-homme-tissot-t122-417-16-051-00.html',\n",
       " 'https://www.lamode.tn/montre-pour-homme-et-femme-aux-meilleurs-prix-en-tunisie/14122-bracelet-de-montres-tissot-t120-417bs.html']"
      ]
     },
     "execution_count": 204,
     "metadata": {},
     "output_type": "execute_result"
    }
   ],
   "source": [
    "filtered_descs = filter_based_on_price(li, symb, vall)\n",
    "filtered_descs"
   ]
  },
  {
   "cell_type": "code",
   "execution_count": 201,
   "metadata": {},
   "outputs": [
    {
     "name": "stdout",
     "output_type": "stream",
     "text": [
      "6\n"
     ]
    }
   ],
   "source": [
    "print(len(filtered_descs))"
   ]
  },
  {
   "attachments": {},
   "cell_type": "markdown",
   "metadata": {},
   "source": [
    "## ranking the most relevant products based on the product description with 2 different models"
   ]
  },
  {
   "cell_type": "code",
   "execution_count": 76,
   "metadata": {},
   "outputs": [],
   "source": [
    "def compare_article_query_SentenceTransformer(query, article):\n",
    "    model = SentenceTransformer(\"dangvantuan/sentence-camembert-base\")\n",
    "    query_embedding = model.encode(query)\n",
    "    article_embeddings = model.encode(article)\n",
    "    cos_scores = util.pytorch_cos_sim(query_embedding, article_embeddings)[0]\n",
    "    cos_scores = cos_scores.numpy()[0]\n",
    "    return cos_scores"
   ]
  },
  {
   "cell_type": "code",
   "execution_count": 62,
   "metadata": {},
   "outputs": [],
   "source": [
    "def compare_article_query_Spacy(query, article, pipeline=\"fr_core_news_sm\"):\n",
    "    nlp = spacy.load(pipeline)\n",
    "    query_doc = nlp(query)\n",
    "    article_doc = nlp(article)\n",
    "    return query_doc.similarity(article_doc)"
   ]
  },
  {
   "cell_type": "code",
   "execution_count": 78,
   "metadata": {},
   "outputs": [],
   "source": [
    "def get_recommended_articles_spacy(query, descs, pipeline=\"fr_core_news_sm\"):\n",
    "    recommended_articles = []\n",
    "    for link, desc in tqdm(descs):\n",
    "        score = compare_article_query_Spacy(query, desc, pipeline)\n",
    "        recommended_articles.append((link, score))\n",
    "    recommended_articles.sort(key=lambda x: x[1], reverse=True)\n",
    "    return recommended_articles"
   ]
  },
  {
   "cell_type": "code",
   "execution_count": 81,
   "metadata": {},
   "outputs": [],
   "source": [
    "def get_recommended_articles_sentence_transformer(query, descs):\n",
    "    recommended_articles = []\n",
    "    for link, desc in tqdm(descs):\n",
    "        score = compare_article_query_SentenceTransformer(query, desc)\n",
    "        recommended_articles.append((link, score))\n",
    "    recommended_articles.sort(key=lambda x: x[1], reverse=True)\n",
    "    return recommended_articles"
   ]
  },
  {
   "cell_type": "code",
   "execution_count": 79,
   "metadata": {},
   "outputs": [
    {
     "name": "stderr",
     "output_type": "stream",
     "text": [
      "  0%|          | 0/20 [00:00<?, ?it/s]C:\\Users\\Hamadi\\AppData\\Local\\Temp\\ipykernel_16628\\2505155689.py:5: UserWarning: [W007] The model you're using has no word vectors loaded, so the result of the Doc.similarity method will be based on the tagger, parser and NER, which may not give useful similarity judgements. This may happen if you're using one of the small models, e.g. `en_core_web_sm`, which don't ship with word vectors and only use context-sensitive tensors. You can always add your own word vectors, or use one of the larger models instead if available.\n",
      "  return query_doc.similarity(article_doc)\n",
      "100%|██████████| 20/20 [00:33<00:00,  1.67s/it]\n"
     ]
    }
   ],
   "source": [
    "rec = get_recommended_articles_spacy(\"montre homme tissot\", descs)"
   ]
  },
  {
   "cell_type": "code",
   "execution_count": 82,
   "metadata": {},
   "outputs": [
    {
     "name": "stderr",
     "output_type": "stream",
     "text": [
      "100%|██████████| 20/20 [00:36<00:00,  1.84s/it]\n"
     ]
    }
   ],
   "source": [
    "rec1 = get_recommended_articles_sentence_transformer(\"montre homme tissot\", descs)"
   ]
  },
  {
   "cell_type": "code",
   "execution_count": 83,
   "metadata": {},
   "outputs": [
    {
     "name": "stdout",
     "output_type": "stream",
     "text": [
      "[('https://www.lamode.tn/montre-pour-homme-et-femme-aux-meilleurs-prix-en-tunisie/5145-montre-homme-tissot-t120-417-11-041-00.html', 0.3930250078638776), ('https://www.lamode.tn/montre-pour-homme-et-femme-aux-meilleurs-prix-en-tunisie/2398-montre-homme-tissot-t063-617-36-037-00.html', 0.3817942141675934), ('https://www.lamode.tn/montre-pour-homme-et-femme-aux-meilleurs-prix-en-tunisie/560-montre-homme-tissot-t035-617-16-051-00.html', 0.2740323911776584), ('https://www.lamode.tn/montre-pour-homme-et-femme-aux-meilleurs-prix-en-tunisie/5147-montre-homme-tissot-t120-417-11-051-00.html', 0.21352381000931075), ('https://www.lamode.tn/montre-pour-homme-et-femme-aux-meilleurs-prix-en-tunisie/14122-bracelet-de-montres-tissot-t120-417bs.html', 0.17154669130452652), ('https://www.lamode.tn/montre-pour-homme-et-femme-aux-meilleurs-prix-en-tunisie/1722-montre-homme-tissot-t100-417-16-051-00.html', 0.10360418719016935), ('https://www.lamode.tn/montre-pour-homme-et-femme-aux-meilleurs-prix-en-tunisie/3330-montre-homme-tissot-t055-417-16-037-00.html', 0.09809993312859103), ('https://www.lamode.tn/montre-pour-homme-et-femme-aux-meilleurs-prix-en-tunisie/1784-montre-homme-tissot-t055-417-11-047-00.html', 0.09045704426896348), ('https://www.lamode.tn/montre-pour-homme-et-femme-aux-meilleurs-prix-en-tunisie/2396-montre-homme-tissot-t100-417-36-051-00.html', 0.08250221870755595), ('https://www.lamode.tn/montre-pour-homme-et-femme-aux-meilleurs-prix-en-tunisie/2968-montre-homme-tissot-t106-417-36-051-00.html', 0.08243182867584711), ('https://www.lamode.tn/montre-pour-homme-et-femme-aux-meilleurs-prix-en-tunisie/1724-montre-homme-tissot-t100-417-11-051-00.html', 0.08059280292079896), ('https://www.lamode.tn/montre-pour-homme-et-femme-aux-meilleurs-prix-en-tunisie/3021-montre-homme-tissot-t055-417-11-037-00.html', 0.07345098753856918), ('https://www.lamode.tn/montre-pour-homme-et-femme-aux-meilleurs-prix-en-tunisie/1577-montre-homme-tissot-t035-617-11-031-00.html', 0.0730800401870035), ('https://www.lamode.tn/montre-pour-homme-et-femme-aux-meilleurs-prix-en-tunisie/1725-montre-homme-tissot-t100-417-11-051-01.html', 0.07046153781930196), ('https://www.lamode.tn/montre-pour-homme-et-femme-aux-meilleurs-prix-en-tunisie/2457-montre-homme-tissot-t055-417-11-057-00.html', 0.06848865876949452), ('https://www.lamode.tn/montre-pour-homme-et-femme-aux-meilleurs-prix-en-tunisie/5143-montre-homme-tissot-t122-417-16-011-00.html', 0.06778905534145535), ('https://www.lamode.tn/montre-pour-homme-et-femme-aux-meilleurs-prix-en-tunisie/2702-montre-homme-tissot-t055-417-16-057-00.html', 0.061000113214058245), ('https://www.lamode.tn/montre-pour-homme-et-femme-aux-meilleurs-prix-en-tunisie/5144-montre-homme-tissot-t122-417-16-051-00.html', 0.05797032753674584), ('https://www.lamode.tn/montre-pour-homme-et-femme-aux-meilleurs-prix-en-tunisie/3812-montre-homme-tissot-t035-617-16-031-00.html', 0.0549091202825861), ('https://www.lamode.tn/montre-pour-homme-et-femme-aux-meilleurs-prix-en-tunisie/33-montre-homme-tissot-t035-617-11-051-00.html', 0.05056229279418699)]\n",
      "[('https://www.lamode.tn/montre-pour-homme-et-femme-aux-meilleurs-prix-en-tunisie/3330-montre-homme-tissot-t055-417-16-037-00.html', 0.28818008), ('https://www.lamode.tn/montre-pour-homme-et-femme-aux-meilleurs-prix-en-tunisie/2968-montre-homme-tissot-t106-417-36-051-00.html', 0.27809784), ('https://www.lamode.tn/montre-pour-homme-et-femme-aux-meilleurs-prix-en-tunisie/2396-montre-homme-tissot-t100-417-36-051-00.html', 0.27689314), ('https://www.lamode.tn/montre-pour-homme-et-femme-aux-meilleurs-prix-en-tunisie/2398-montre-homme-tissot-t063-617-36-037-00.html', 0.26605296), ('https://www.lamode.tn/montre-pour-homme-et-femme-aux-meilleurs-prix-en-tunisie/3021-montre-homme-tissot-t055-417-11-037-00.html', 0.2633618), ('https://www.lamode.tn/montre-pour-homme-et-femme-aux-meilleurs-prix-en-tunisie/1784-montre-homme-tissot-t055-417-11-047-00.html', 0.25486994), ('https://www.lamode.tn/montre-pour-homme-et-femme-aux-meilleurs-prix-en-tunisie/2702-montre-homme-tissot-t055-417-16-057-00.html', 0.24941629), ('https://www.lamode.tn/montre-pour-homme-et-femme-aux-meilleurs-prix-en-tunisie/3812-montre-homme-tissot-t035-617-16-031-00.html', 0.24622218), ('https://www.lamode.tn/montre-pour-homme-et-femme-aux-meilleurs-prix-en-tunisie/1722-montre-homme-tissot-t100-417-16-051-00.html', 0.2447437), ('https://www.lamode.tn/montre-pour-homme-et-femme-aux-meilleurs-prix-en-tunisie/33-montre-homme-tissot-t035-617-11-051-00.html', 0.24013923), ('https://www.lamode.tn/montre-pour-homme-et-femme-aux-meilleurs-prix-en-tunisie/1725-montre-homme-tissot-t100-417-11-051-01.html', 0.23662396), ('https://www.lamode.tn/montre-pour-homme-et-femme-aux-meilleurs-prix-en-tunisie/1724-montre-homme-tissot-t100-417-11-051-00.html', 0.2361444), ('https://www.lamode.tn/montre-pour-homme-et-femme-aux-meilleurs-prix-en-tunisie/5144-montre-homme-tissot-t122-417-16-051-00.html', 0.23428729), ('https://www.lamode.tn/montre-pour-homme-et-femme-aux-meilleurs-prix-en-tunisie/5143-montre-homme-tissot-t122-417-16-011-00.html', 0.23048282), ('https://www.lamode.tn/montre-pour-homme-et-femme-aux-meilleurs-prix-en-tunisie/5145-montre-homme-tissot-t120-417-11-041-00.html', 0.2247782), ('https://www.lamode.tn/montre-pour-homme-et-femme-aux-meilleurs-prix-en-tunisie/2457-montre-homme-tissot-t055-417-11-057-00.html', 0.2226632), ('https://www.lamode.tn/montre-pour-homme-et-femme-aux-meilleurs-prix-en-tunisie/560-montre-homme-tissot-t035-617-16-051-00.html', 0.19756433), ('https://www.lamode.tn/montre-pour-homme-et-femme-aux-meilleurs-prix-en-tunisie/5147-montre-homme-tissot-t120-417-11-051-00.html', 0.18511559), ('https://www.lamode.tn/montre-pour-homme-et-femme-aux-meilleurs-prix-en-tunisie/1577-montre-homme-tissot-t035-617-11-031-00.html', 0.09575227), ('https://www.lamode.tn/montre-pour-homme-et-femme-aux-meilleurs-prix-en-tunisie/14122-bracelet-de-montres-tissot-t120-417bs.html', 0.058675777)]\n"
     ]
    }
   ],
   "source": [
    "print(rec)\n",
    "print(rec1)"
   ]
  },
  {
   "cell_type": "code",
   "execution_count": 176,
   "metadata": {},
   "outputs": [
    {
     "data": {
      "text/plain": [
       "[('https://www.lamode.tn/montre-pour-homme-et-femme-aux-meilleurs-prix-en-tunisie/560-montre-homme-tissot-t035-617-16-051-00.html',\n",
       "  \" La Tissot T035.617.16.051.00 est une montre pour hommes fonctionnelle et attrayante de la \\ncollection Chrono XL. Le boîtier est en acier inoxydable, ce qui garantit la haute qualité de l'article, \\ntandis que le cadran est de couleur bleue. Les caractéristiques de la montre incluent (entre autres) \\nun chronographe. \\nL'étanchéité à 100 mètres protège la montre et lui permet d'être immergée dans l'eau pour un usage \\nquotidien, y compris la natation, mais pas pour les sports nautiques à fort impact. Nous l'expédions \\navec une boîte originale et une garantie du fabricant. \"),\n",
       " ('https://www.lamode.tn/montre-pour-homme-et-femme-aux-meilleurs-prix-en-tunisie/2398-montre-homme-tissot-t063-617-36-037-00.html',\n",
       "  \" La famille Tissot Tradition apporte une touche de nostalgie à l'horlogerie moderne, en agrémentant \\nles technologies les plus innovantes d'un style vintage inimitable sur la Montre HOMME TISSOT \\nT063.617.36.037.00. \\nLe fonctionnement high-tech se marie parfaitement avec les détails classiques et les élégantes \\nfinitions vintage, complétés par des éléments de design tels que la décoration guillochée et un boîtier \\nlégèrement incurvé. \\nCe chronographe sera expédié avec la boîte Tissot originale et le certificat de garantie de 24 mois. \"),\n",
       " ('https://www.lamode.tn/montre-pour-homme-et-femme-aux-meilleurs-prix-en-tunisie/5145-montre-homme-tissot-t120-417-11-041-00.html',\n",
       "  \" La Tissot T120.417.11.041.00 fait partie de la collection de montres Seastar 1000. Cette montre \\npossède un cadran bleu qui intègre des index du type souhaité. Le boîtier est en acier inoxydable et \\nle verre de la montre est protégé par des cristaux saphir inrayables. \\nLe fond du boîtier est réalisé avec un design vissé. Elle est dotée d'un calibre suisse à quartz. Le \\nbracelet est également en acier pour ajouter de la netteté au look. \"),\n",
       " ('https://www.lamode.tn/montre-pour-homme-et-femme-aux-meilleurs-prix-en-tunisie/1577-montre-homme-tissot-t035-617-11-031-00.html',\n",
       "  \"  Montre\\xa0 TISSOT\\xa0  pour \\xa0 Hommes \\xa0en ACIER, \\xa0livrée dans son \\xa0Coffret originale , avec le \\xa0certificat d'authenticité , la référence  (T03561711031) et la Garentie internationale .  \\n  \"),\n",
       " ('https://www.lamode.tn/montre-pour-homme-et-femme-aux-meilleurs-prix-en-tunisie/1722-montre-homme-tissot-t100-417-16-051-00.html',\n",
       "  \"  Montre  TISSOT   pour \\xa0 Hommes \\xa0en Cuir,  livrée dans son  Coffret originale , avec le  certificat d'authenticité , la référence (T100.417.16.051.00) et la \\xa0GARANTIE Internationale TISSOT  \\n  \\n  \"),\n",
       " ('https://www.lamode.tn/montre-pour-homme-et-femme-aux-meilleurs-prix-en-tunisie/5147-montre-homme-tissot-t120-417-11-051-00.html',\n",
       "  \" Le modèle TISSOT T120.417.11.051.00 est une réinterprétation de la célèbre montre de plongée, mais cette fois en version chronographe. Cette montre présente un impressionnant boîtier en acier 316 L mesurant 45,5 mm de diamètre et 12,8 mm d'épaisseur. Sur ce modèle, une couronne de remontoir est vissée à la position 3 heures pour ajuster les aiguilles du cadran. Deux poussoirs sont installés à 2 et 4 heures. Ils permettent d'activer les fonctions des différents compteurs. En outre, il existe une lunette unidirectionnelle avec des indications luminescentes, afin que vous puissiez mesurer votre température en mer, même dans les profondeurs les plus sombres. \"),\n",
       " ('https://www.lamode.tn/montre-pour-homme-et-femme-aux-meilleurs-prix-en-tunisie/2702-montre-homme-tissot-t055-417-16-057-00.html',\n",
       "  \"  Montre  TISSOT  \\xa0Couturier\\xa0 pour \\xa0 Hommes \\xa0en Cuir,  livrée dans son  Coffret originale , avec le  certificat d'authenticité , la référence  ( t055.417.16.057.00 )  et la \\xa0GARANTIE Internationale TISSOT \\xa0! \\n  \\n  \"),\n",
       " ('https://www.lamode.tn/montre-pour-homme-et-femme-aux-meilleurs-prix-en-tunisie/3812-montre-homme-tissot-t035-617-16-031-00.html',\n",
       "  \"  Montre  TISSOT  \\xa0Couturier\\xa0 pour \\xa0 Hommes \\xa0en Cuir,  livrée dans son  Coffret originale , avec le  certificat d'authenticité , la référence  (T035.617.16.031.00)  et la \\xa0GARANTIE Internationale TISSOT \\xa0! \\n  \\n  \"),\n",
       " ('https://www.lamode.tn/montre-pour-homme-et-femme-aux-meilleurs-prix-en-tunisie/1724-montre-homme-tissot-t100-417-11-051-00.html',\n",
       "  \"  Montre\\xa0 TISSOT\\xa0  pour \\xa0 Hommes \\xa0en ACIER, \\xa0livrée dans son \\xa0Coffret originale , avec le \\xa0certificat d'authenticité , la référence  (T100.417.11.051.00)  et la \\xa0GARANTIE Internationale TISSOT \\xa0! \"),\n",
       " ('https://www.lamode.tn/montre-pour-homme-et-femme-aux-meilleurs-prix-en-tunisie/1725-montre-homme-tissot-t100-417-11-051-01.html',\n",
       "  \"  Montre\\xa0 TISSOT\\xa0  pour \\xa0 Hommes \\xa0en ACIER, \\xa0livrée dans son \\xa0Coffret originale , avec le \\xa0certificat d'authenticité , la référence  (T100.417.11.051.01)  et la \\xa0GARANTIE Internationale TISSOT \\xa0! \"),\n",
       " ('https://www.lamode.tn/montre-pour-homme-et-femme-aux-meilleurs-prix-en-tunisie/1784-montre-homme-tissot-t055-417-11-047-00.html',\n",
       "  \"  Montre\\xa0 TISSOT\\xa0  pour \\xa0 Hommes \\xa0en ACIER, \\xa0livrée dans son \\xa0Coffret originale , avec le \\xa0certificat d'authenticité , la référence (T055.417.11.047.00) \\n  \\n et la \\xa0GARANTIE Internationale TISSOT \\xa0! \"),\n",
       " ('https://www.lamode.tn/montre-pour-homme-et-femme-aux-meilleurs-prix-en-tunisie/2396-montre-homme-tissot-t100-417-36-051-00.html',\n",
       "  \"  Montre  TISSOT  Trend Couturier\\xa0 pour \\xa0 Hommes \\xa0en Cuir,  livrée dans son  Coffret originale , avec le  certificat d'authenticité , la référence  (T100.417.36.051.00)  et la \\xa0GARANTIE Internationale TISSOT \\xa0! \\n  \\n  \"),\n",
       " ('https://www.lamode.tn/montre-pour-homme-et-femme-aux-meilleurs-prix-en-tunisie/2457-montre-homme-tissot-t055-417-11-057-00.html',\n",
       "  \"  Montre\\xa0 TISSOT\\xa0 T055.417.11.057.00 \\xa0  pour \\xa0 Hommes \\xa0en ACIER, \\xa0livrée dans son \\xa0Coffret originale , avec le \\xa0certificat d'authenticité , la référence  ( T055.417.11.057.00 )  et la \\xa0GARANTIE Internationale TISSOT \\xa0! \"),\n",
       " ('https://www.lamode.tn/montre-pour-homme-et-femme-aux-meilleurs-prix-en-tunisie/3021-montre-homme-tissot-t055-417-11-037-00.html',\n",
       "  \"  Montre\\xa0 TISSOT\\xa0  pour \\xa0 Hommes \\xa0en ACIER, \\xa0livrée dans son \\xa0Coffret originale , avec le \\xa0certificat d'authenticité , la référence  (t055.417.11.037.00)  et la \\xa0GARANTIE Internationale TISSOT \\xa0! \"),\n",
       " ('https://www.lamode.tn/montre-pour-homme-et-femme-aux-meilleurs-prix-en-tunisie/3330-montre-homme-tissot-t055-417-16-037-00.html',\n",
       "  \"  Montre\\xa0 TISSOT\\xa0  pour \\xa0  Hommes  \\xa0en cuir,\\xa0livrée dans son\\xa0Coffret originale , avec le \\xa0certificat d'authenticité , la référence  (t055.417.16.037.00)  et la \\xa0GARANTIE Internationale TISSOT \\xa0! \"),\n",
       " ('https://www.lamode.tn/montre-pour-homme-et-femme-aux-meilleurs-prix-en-tunisie/33-montre-homme-tissot-t035-617-11-051-00.html',\n",
       "  \"  Montre\\xa0 TISSOT\\xa0  pour \\xa0 Hommes \\xa0en ACIER, \\xa0livrée dans son \\xa0Coffret originale , avec le \\xa0certificat d'authenticité , la référence  ( t035.617.11.051.00 )  et la \\xa0GARANTIE Internationale TISSOT \\xa0! \"),\n",
       " ('https://www.lamode.tn/montre-pour-homme-et-femme-aux-meilleurs-prix-en-tunisie/2968-montre-homme-tissot-t106-417-36-051-00.html',\n",
       "  \"  Montre\\xa0 TISSOT\\xa0  pour \\xa0 Hommes \\xa0en Cuir, \\xa0livrée dans son \\xa0Coffret originale , avec le \\xa0certificat d'authenticité , la référence  (t106.417.36.051.00 )  et la \\xa0GARANTIE Internationale TISSOT \\xa0! \"),\n",
       " ('https://www.lamode.tn/montre-pour-homme-et-femme-aux-meilleurs-prix-en-tunisie/5143-montre-homme-tissot-t122-417-16-011-00.html',\n",
       "  \"    \\xa0  Montre  TISSOT  \\xa0Couturier\\xa0 pour \\xa0 Hommes \\xa0en Cuir,  livrée dans son  Coffret originale , avec le  certificat d'authenticité , la référence  (  T122.417.16.011.00  )  et la \\xa0GARANTIE Internationale TISSOT \\xa0! \\n  \\n  \"),\n",
       " ('https://www.lamode.tn/montre-pour-homme-et-femme-aux-meilleurs-prix-en-tunisie/5144-montre-homme-tissot-t122-417-16-051-00.html',\n",
       "  \"    \\xa0  Montre  TISSOT  \\xa0Couturier\\xa0 pour \\xa0 Hommes \\xa0en Cuir,  livrée dans son  Coffret originale , avec le  certificat d'authenticité , la référence  (  \\xa0T122.417.16.051.00  )  et la \\xa0GARANTIE Internationale TISSOT \\xa0! \\n  \\n  \"),\n",
       " ('https://www.lamode.tn/montre-pour-homme-et-femme-aux-meilleurs-prix-en-tunisie/14122-bracelet-de-montres-tissot-t120-417bs.html',\n",
       "  'None')]"
      ]
     },
     "execution_count": 176,
     "metadata": {},
     "output_type": "execute_result"
    }
   ],
   "source": [
    "descs"
   ]
  },
  {
   "cell_type": "code",
   "execution_count": 217,
   "metadata": {},
   "outputs": [
    {
     "name": "stdout",
     "output_type": "stream",
     "text": [
      "1. https://www.lamode.tn/montre-pour-homme-et-femme-aux-meilleurs-prix-en-tunisie/5145-montre-homme-tissot-t120-417-11-041-00.html - 0.3930250078638776\n",
      "2. https://www.lamode.tn/montre-pour-homme-et-femme-aux-meilleurs-prix-en-tunisie/2398-montre-homme-tissot-t063-617-36-037-00.html - 0.3817942141675934\n",
      "3. https://www.lamode.tn/montre-pour-homme-et-femme-aux-meilleurs-prix-en-tunisie/560-montre-homme-tissot-t035-617-16-051-00.html - 0.2740323911776584\n",
      "4. https://www.lamode.tn/montre-pour-homme-et-femme-aux-meilleurs-prix-en-tunisie/5147-montre-homme-tissot-t120-417-11-051-00.html - 0.21352381000931075\n",
      "5. https://www.lamode.tn/montre-pour-homme-et-femme-aux-meilleurs-prix-en-tunisie/14122-bracelet-de-montres-tissot-t120-417bs.html - 0.17154669130452652\n"
     ]
    }
   ],
   "source": [
    "for i, (link, score) in enumerate(rec[:5]):\n",
    "        print(f\"{i+1}. {link} - {score}\")"
   ]
  },
  {
   "cell_type": "code",
   "execution_count": null,
   "metadata": {},
   "outputs": [],
   "source": []
  },
  {
   "cell_type": "code",
   "execution_count": null,
   "metadata": {},
   "outputs": [],
   "source": []
  }
 ],
 "metadata": {
  "kernelspec": {
   "display_name": ".venv",
   "language": "python",
   "name": "python3"
  },
  "language_info": {
   "codemirror_mode": {
    "name": "ipython",
    "version": 3
   },
   "file_extension": ".py",
   "mimetype": "text/x-python",
   "name": "python",
   "nbconvert_exporter": "python",
   "pygments_lexer": "ipython3",
   "version": "3.11.2"
  },
  "orig_nbformat": 4
 },
 "nbformat": 4,
 "nbformat_minor": 2
}
